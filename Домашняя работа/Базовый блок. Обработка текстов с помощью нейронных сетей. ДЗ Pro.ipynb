{
 "cells": [
  {
   "cell_type": "markdown",
   "metadata": {
    "id": "3hahJ-ONkfmR"
   },
   "source": [
    "Дорогой студент!\n",
    "\n",
    "В данном домашнем задании предоставляется возможность поработать с задачей по распознаванию позитивных и негативных отзывы людей по автомобилю Tesla. База для обучения содержит два текстовых файла с рядом строчных отзывов с мнением людей об автомобиле Tesla, соответственно негативного и позитивного содержания. Ссылка на скачивание базы уже включена в ноутбук задания.\n",
    "\n",
    "\n",
    "Необходимо выполнить следующие действия:\n",
    "\n",
    "  1. Загрузите саму базу по ссылке и подговьте файлы базы для обработки.\n",
    "  2. Создайте обучающую и проверочную выборки, обратив особое внимание на балансировку базы: количество примеров каждого класса должно быть примерно одного порядка.\n",
    "  3. Подготовьте выборки для обучения и обучите сеть. Добейтесь результата точности сети в 85-90% на проверочной выборке.\n",
    "   \n"
   ]
  },
  {
   "cell_type": "markdown",
   "metadata": {
    "id": "PUN4KxIPuUmM"
   },
   "source": [
    "### Импорты"
   ]
  },
  {
   "cell_type": "code",
   "execution_count": 3,
   "metadata": {
    "id": "xOYjMYA5bQD5"
   },
   "outputs": [],
   "source": [
    "# Работа с массивами данных\n",
    "# Для работы с файлами в Colaboratory\n",
    "import os\n",
    "\n",
    "# Работа с архивами\n",
    "import zipfile\n",
    "\n",
    "# Загрузка датасетов из облака google\n",
    "import gdown\n",
    "\n",
    "# Отрисовка графиков\n",
    "import matplotlib.pyplot as plt\n",
    "\n",
    "# Работа с массивами данных\n",
    "import numpy as np\n",
    "\n",
    "# Функции-утилиты для работы с категориальными данными\n",
    "from tensorflow.keras import utils\n",
    "\n",
    "# Основные слои\n",
    "from tensorflow.keras.layers import (\n",
    "    Dense,\n",
    "    Dropout,\n",
    "    Input,\n",
    ")\n",
    "\n",
    "# Класс для конструирования последовательной модели нейронной сети\n",
    "from tensorflow.keras.models import Sequential\n",
    "\n",
    "# Оптимизатор для обучения нейронной сети\n",
    "from tensorflow.keras.optimizers import Adam\n",
    "\n",
    "# Токенизатор для преобразование текстов в последовательности\n",
    "from tensorflow.keras.preprocessing.text import Tokenizer\n",
    "\n",
    "%matplotlib inline"
   ]
  },
  {
   "cell_type": "markdown",
   "metadata": {},
   "source": [
    "### Загрузка и распаковка данных"
   ]
  },
  {
   "cell_type": "code",
   "execution_count": null,
   "metadata": {
    "colab": {
     "base_uri": "https://localhost:8080/",
     "height": 35
    },
    "id": "pBys9ajOW43u",
    "outputId": "207903e6-8719-4dce-ab39-f58f61352826"
   },
   "outputs": [],
   "source": [
    "if not os.path.exists('tesla.zip'):\n",
    "    # Скачиваем датасет\n",
    "    gdown.download('https://storage.yandexcloud.net/aiueducation/Content/base/l7/tesla.zip', None, quiet=True)"
   ]
  },
  {
   "cell_type": "code",
   "execution_count": 4,
   "metadata": {
    "colab": {
     "base_uri": "https://localhost:8080/"
    },
    "id": "bBgC28cgulnc",
    "outputId": "1b473a89-41d7-4b10-c901-2836e4d2e1c2"
   },
   "outputs": [
    {
     "name": "stdout",
     "output_type": "stream",
     "text": [
      "Негативный отзыв.txt\n",
      "Позитивный отзыв.txt\n"
     ]
    }
   ],
   "source": [
    "# Распаковка архива в папку writers\n",
    "with zipfile.ZipFile('tesla.zip', 'r') as zip_ref:\n",
    "    zip_ref.extractall('tesla')\n",
    "\n",
    "# Просмотр содержимого папки\n",
    "print(\"\\n\".join(os.listdir('tesla')))"
   ]
  },
  {
   "cell_type": "markdown",
   "metadata": {},
   "source": [
    "### Подготовка данных"
   ]
  },
  {
   "cell_type": "markdown",
   "metadata": {
    "id": "o7VsrwF92JDM"
   },
   "source": [
    "**Загрузка текста из файлов, преобразование в одну строку.**"
   ]
  },
  {
   "cell_type": "code",
   "execution_count": 5,
   "metadata": {
    "id": "tHELyvOvzRBI"
   },
   "outputs": [],
   "source": [
    "# Объявляем функции для чтения файла. На вход отправляем путь к файлу\n",
    "def read_text(file_name):\n",
    "\n",
    "  # Задаем открытие нужного файла в режиме чтения\n",
    "  read_file = open(file_name, 'r')\n",
    "\n",
    "  # Читаем текст\n",
    "  text = read_file.read()\n",
    "\n",
    "  # Переносы строки переводим в пробелы\n",
    "  text = text.replace(\"\\n\", \" \")\n",
    "\n",
    "  # Возвращаем текст файла\n",
    "  return text\n",
    "\n",
    "# Объявляем интересующие нас классы\n",
    "class_names = [\"Негативный отзыв\", \"Позитивный отзыв\"]\n",
    "\n",
    "# Считаем количество классов\n",
    "num_classes = len(class_names)"
   ]
  },
  {
   "cell_type": "markdown",
   "metadata": {
    "id": "ih6e6VfO2o_t"
   },
   "source": [
    "**Тексты в один список.**"
   ]
  },
  {
   "cell_type": "code",
   "execution_count": null,
   "metadata": {
    "colab": {
     "base_uri": "https://localhost:8080/"
    },
    "id": "9w4V4ztFznbG",
    "outputId": "a7b0c16a-9879-48b4-fc2c-b4073d6dca04"
   },
   "outputs": [
    {
     "name": "stdout",
     "output_type": "stream",
     "text": [
      "Негативный отзыв.txt добавлен в обучающую выборку\n",
      "Позитивный отзыв.txt добавлен в обучающую выборку\n"
     ]
    }
   ],
   "source": [
    "# Создаём список под тексты для обучающей выборки\n",
    "texts_list = []\n",
    "\n",
    "# Циклом проводим итерацию по текстовым файлам в папке отзывов\n",
    "for j in os.listdir('tesla/'):\n",
    "\n",
    "  # Добавляем каждый файл в общий список для выборки\n",
    "        texts_list.append(read_text('tesla/' + j))\n",
    "\n",
    "        # Выводим на экран сообщение о добавлении файла\n",
    "        print(j, 'добавлен в обучающую выборку')"
   ]
  },
  {
   "cell_type": "code",
   "execution_count": 7,
   "metadata": {
    "colab": {
     "base_uri": "https://localhost:8080/"
    },
    "id": "rvvdNpt40jRY",
    "outputId": "c2308d37-8546-443c-e53d-517ecd1cb8bf"
   },
   "outputs": [
    {
     "name": "stdout",
     "output_type": "stream",
     "text": [
      "Размеры текстов по порядку (в токенах):\n",
      "Текст №1: 134535\n",
      "Текст №2: 213381\n"
     ]
    }
   ],
   "source": [
    "# Узнаем объём каждого текста в словах и символах\n",
    "texts_len = [len(text) for text in texts_list]\n",
    "\n",
    "# Устанавливаем \"счётчик\" номера текста\n",
    "t_num = 0\n",
    "\n",
    "# Выводим на экран  информационное сообщение\n",
    "print(f'Размеры текстов по порядку (в токенах):')\n",
    "\n",
    "# Циклом проводим итерацию по списку с объёмами текстов\n",
    "for text_len in texts_len:\n",
    "\n",
    "  # Запускаем \"счётчик\" номера текста\n",
    "  t_num += 1\n",
    "\n",
    "  # Выводим на экран сообщение о номере и объёме текста\n",
    "  print(f'Текст №{t_num}: {text_len}')"
   ]
  },
  {
   "cell_type": "markdown",
   "metadata": {
    "id": "lpAQS_wB24TT"
   },
   "source": [
    "Далее рассчитаем, сколько символов составит 80% объёма каждого текста, чтобы по полученному индексу отделить эти 80% на обучающую и оставшиеся 20% на проверочную выборку. Эти значения необходимы для подготовки деления на выборки слайсингом по индексу."
   ]
  },
  {
   "cell_type": "code",
   "execution_count": 8,
   "metadata": {
    "colab": {
     "base_uri": "https://localhost:8080/"
    },
    "id": "0ur3bkOd3UTQ",
    "outputId": "c275e7ee-6137-4e6d-c052-dcabc64c860c"
   },
   "outputs": [
    {
     "name": "stdout",
     "output_type": "stream",
     "text": [
      "Доля 80% от текста №1: 107628 символов\n",
      "Доля 80% от текста №2: 170705 символов\n"
     ]
    }
   ],
   "source": [
    "# Создаём список с вложенным циклом по длинам текстов, где i - 100% текста, i/5 - 20% текста\n",
    "train_len_shares = [(i - round(i/5)) for i in texts_len]\n",
    "\n",
    "# Устанавливаем \"счётчик\" номера текста\n",
    "t_num = 0\n",
    "\n",
    "# Циклом проводим итерацию по списку с объёмами текстов равными 80% от исходных\n",
    "for train_len_share in train_len_shares:\n",
    "\n",
    "  # Запускаем \"счётчик\" номера текста\n",
    "  t_num += 1\n",
    "\n",
    "  # Выводим на экран сообщение о номере и объёме текста в 80% от исходного\n",
    "  print(f'Доля 80% от текста №{t_num}: {train_len_share} символов')"
   ]
  },
  {
   "cell_type": "markdown",
   "metadata": {
    "id": "rVHFObMz5RsH"
   },
   "source": [
    "Импортируем функцию **chain()** для добавления текстов в каждую выборку.\n",
    "\n",
    "---\n",
    " Дополнительная информация: ([База знаний УИИ  - **\"Методы работы со списками: функция chain( )**\"](https://colab.research.google.com/drive/1KJKg_WYD8Vq63cciOMBEEAhFpyPv0A0V?usp=sharing/))\n",
    "\n",
    "---\n",
    "\n",
    "Производём нарезку (метод слайсинга) по полученному ранее индексу для формирования текстов отдельно для обучающей(80%) и проверочной(20%) выборок:"
   ]
  },
  {
   "cell_type": "markdown",
   "metadata": {},
   "source": [
    "#### Создание обучающей и проверочной выборок"
   ]
  },
  {
   "cell_type": "code",
   "execution_count": null,
   "metadata": {
    "id": "um_NZc9pzAXc"
   },
   "outputs": [],
   "source": [
    "# Ваше решение\n",
    "text_train = [] # Список для обучающей выборки\n",
    "text_validate = [] # Список для валидационной выборки\n",
    "# Разделяем тексты на обучающую и валидационную выборки\n",
    "for i, text in enumerate(texts_list): \n",
    "    text_train.append(text[:train_len_shares[i]])\n",
    "    text_validate.append(text[train_len_shares[i]:])"
   ]
  },
  {
   "cell_type": "markdown",
   "metadata": {},
   "source": [
    "#### Настройка токенайзера, деление последовательности индексов на окна "
   ]
  },
  {
   "cell_type": "code",
   "execution_count": null,
   "metadata": {},
   "outputs": [],
   "source": [
    "# Параметры для токенизации\n",
    "VOCAB_SIZE = 20_000\n",
    "WIN_SIZE = 1000\n",
    "WIN_HOPE = 150\n",
    "\n",
    "\n",
    "# Функция разбиения последовательности на отрезки скользящим окном\n",
    "# На входе - последовательность индексов, размер окна, шаг окна\n",
    "def split_sequence(sequence, win_size, hop):\n",
    "    # Последовательность разбивается на части до последнего полного окна\n",
    "    return [\n",
    "        sequence[i : i + win_size] for i in range(0, len(sequence) - win_size + 1, hop)\n",
    "    ]\n",
    "\n",
    "\n",
    "# Функция формирования выборок из последовательностей индексов\n",
    "# формирует выборку отрезков и соответствующих им меток классов в виде one hot encoding\n",
    "def vectorize_sequence(seq_list, win_size, hop):\n",
    "    # В списке последовательности следуют в порядке их классов\n",
    "    # Всего последовательностей в списке ровно столько, сколько классов\n",
    "    class_count = len(seq_list)\n",
    "\n",
    "    # Списки для исходных векторов и категориальных меток класса\n",
    "    x, y = [], []\n",
    "\n",
    "    # Для каждого класса:\n",
    "    for cls in range(class_count):\n",
    "        # Разбиение последовательности класса cls на отрезки\n",
    "        vectors = split_sequence(seq_list[cls], win_size, hop)\n",
    "        # Добавление отрезков в выборку\n",
    "        x += vectors\n",
    "        # Для всех отрезков класса cls добавление меток класса в виде OHE\n",
    "        y += [utils.to_categorical(cls, class_count)] * len(vectors)\n",
    "\n",
    "    # Возврат результатов как numpy-массивов\n",
    "    return np.array(x), np.array(y)"
   ]
  },
  {
   "cell_type": "code",
   "execution_count": null,
   "metadata": {},
   "outputs": [],
   "source": [
    "tokenizer = Tokenizer( # Токенизатор для преобразования текстов в последовательности\n",
    "    num_words=VOCAB_SIZE,\n",
    "    filters='!\"#$%&()*+,-–—./…:;<=>?@[\\\\]^_`{|}~«»\\t\\n\\xa0\\ufeff',\n",
    "    lower=True,\n",
    "    split=\" \",\n",
    "    oov_token=\"неизвестное_слово\",\n",
    "    char_level=False,\n",
    ")\n",
    "# Обучение токенизатора на текстах\n",
    "tokenizer.fit_on_texts(texts_list)\n",
    "# Преобразование текстов в последовательности индексов\n",
    "seq_train = tokenizer.texts_to_sequences(text_train)\n",
    "seq_test = tokenizer.texts_to_sequences(text_validate)\n",
    "# Формирование обучающей выборки\n",
    "x_train, y_train = vectorize_sequence(seq_train, WIN_SIZE, WIN_HOPE)\n",
    "# Формирование тестовой выборки\n",
    "x_test, y_test = vectorize_sequence(seq_test, WIN_SIZE, WIN_HOPE)\n",
    "x_train = tokenizer.sequences_to_matrix(x_train.tolist()).astype(\"float16\")\n",
    "x_test = tokenizer.sequences_to_matrix(x_test.tolist()).astype(\"float16\")\n",
    "\n"
   ]
  },
  {
   "cell_type": "code",
   "execution_count": 32,
   "metadata": {},
   "outputs": [
    {
     "name": "stdout",
     "output_type": "stream",
     "text": [
      "Обучающая выборка:\n",
      "Класс 0: 107 окон\n",
      "Класс 1: 166 окон\n",
      "\n",
      "Тестовая выборка:\n",
      "Класс 0: 23 окон\n",
      "Класс 1: 38 окон\n"
     ]
    }
   ],
   "source": [
    "# Преобразуем one-hot обратно в метки классов\n",
    "train_labels = np.argmax(y_train, axis=1)\n",
    "test_labels = np.argmax(y_test, axis=1)\n",
    "\n",
    "# Подсчёт с помощью bincount\n",
    "train_counts = np.bincount(train_labels)\n",
    "test_counts = np.bincount(test_labels)\n",
    "\n",
    "# Вывод результатов\n",
    "print(\"Обучающая выборка:\")\n",
    "for cls, count in enumerate(train_counts):\n",
    "    print(f\"Класс {cls}: {count} окон\")\n",
    "\n",
    "print(\"\\nТестовая выборка:\")\n",
    "for cls, count in enumerate(test_counts):\n",
    "    print(f\"Класс {cls}: {count} окон\")\n",
    "\n"
   ]
  },
  {
   "cell_type": "markdown",
   "metadata": {},
   "source": [
    "### Создание и обучение модели"
   ]
  },
  {
   "cell_type": "code",
   "execution_count": null,
   "metadata": {},
   "outputs": [
    {
     "data": {
      "text/html": [
       "<pre style=\"white-space:pre;overflow-x:auto;line-height:normal;font-family:Menlo,'DejaVu Sans Mono',consolas,'Courier New',monospace\"><span style=\"font-weight: bold\">Model: \"sequential_13\"</span>\n",
       "</pre>\n"
      ],
      "text/plain": [
       "\u001b[1mModel: \"sequential_13\"\u001b[0m\n"
      ]
     },
     "metadata": {},
     "output_type": "display_data"
    },
    {
     "data": {
      "text/html": [
       "<pre style=\"white-space:pre;overflow-x:auto;line-height:normal;font-family:Menlo,'DejaVu Sans Mono',consolas,'Courier New',monospace\">┏━━━━━━━━━━━━━━━━━━━━━━━━━━━━━━━━━┳━━━━━━━━━━━━━━━━━━━━━━━━┳━━━━━━━━━━━━━━━┓\n",
       "┃<span style=\"font-weight: bold\"> Layer (type)                    </span>┃<span style=\"font-weight: bold\"> Output Shape           </span>┃<span style=\"font-weight: bold\">       Param # </span>┃\n",
       "┡━━━━━━━━━━━━━━━━━━━━━━━━━━━━━━━━━╇━━━━━━━━━━━━━━━━━━━━━━━━╇━━━━━━━━━━━━━━━┩\n",
       "│ dense_27 (<span style=\"color: #0087ff; text-decoration-color: #0087ff\">Dense</span>)                │ (<span style=\"color: #00d7ff; text-decoration-color: #00d7ff\">None</span>, <span style=\"color: #00af00; text-decoration-color: #00af00\">200</span>)            │     <span style=\"color: #00af00; text-decoration-color: #00af00\">4,000,200</span> │\n",
       "├─────────────────────────────────┼────────────────────────┼───────────────┤\n",
       "│ dropout_24 (<span style=\"color: #0087ff; text-decoration-color: #0087ff\">Dropout</span>)            │ (<span style=\"color: #00d7ff; text-decoration-color: #00d7ff\">None</span>, <span style=\"color: #00af00; text-decoration-color: #00af00\">200</span>)            │             <span style=\"color: #00af00; text-decoration-color: #00af00\">0</span> │\n",
       "├─────────────────────────────────┼────────────────────────┼───────────────┤\n",
       "│ dense_28 (<span style=\"color: #0087ff; text-decoration-color: #0087ff\">Dense</span>)                │ (<span style=\"color: #00d7ff; text-decoration-color: #00d7ff\">None</span>, <span style=\"color: #00af00; text-decoration-color: #00af00\">100</span>)            │        <span style=\"color: #00af00; text-decoration-color: #00af00\">20,100</span> │\n",
       "├─────────────────────────────────┼────────────────────────┼───────────────┤\n",
       "│ dropout_25 (<span style=\"color: #0087ff; text-decoration-color: #0087ff\">Dropout</span>)            │ (<span style=\"color: #00d7ff; text-decoration-color: #00d7ff\">None</span>, <span style=\"color: #00af00; text-decoration-color: #00af00\">100</span>)            │             <span style=\"color: #00af00; text-decoration-color: #00af00\">0</span> │\n",
       "├─────────────────────────────────┼────────────────────────┼───────────────┤\n",
       "│ dense_29 (<span style=\"color: #0087ff; text-decoration-color: #0087ff\">Dense</span>)                │ (<span style=\"color: #00d7ff; text-decoration-color: #00d7ff\">None</span>, <span style=\"color: #00af00; text-decoration-color: #00af00\">2</span>)              │           <span style=\"color: #00af00; text-decoration-color: #00af00\">202</span> │\n",
       "└─────────────────────────────────┴────────────────────────┴───────────────┘\n",
       "</pre>\n"
      ],
      "text/plain": [
       "┏━━━━━━━━━━━━━━━━━━━━━━━━━━━━━━━━━┳━━━━━━━━━━━━━━━━━━━━━━━━┳━━━━━━━━━━━━━━━┓\n",
       "┃\u001b[1m \u001b[0m\u001b[1mLayer (type)                   \u001b[0m\u001b[1m \u001b[0m┃\u001b[1m \u001b[0m\u001b[1mOutput Shape          \u001b[0m\u001b[1m \u001b[0m┃\u001b[1m \u001b[0m\u001b[1m      Param #\u001b[0m\u001b[1m \u001b[0m┃\n",
       "┡━━━━━━━━━━━━━━━━━━━━━━━━━━━━━━━━━╇━━━━━━━━━━━━━━━━━━━━━━━━╇━━━━━━━━━━━━━━━┩\n",
       "│ dense_27 (\u001b[38;5;33mDense\u001b[0m)                │ (\u001b[38;5;45mNone\u001b[0m, \u001b[38;5;34m200\u001b[0m)            │     \u001b[38;5;34m4,000,200\u001b[0m │\n",
       "├─────────────────────────────────┼────────────────────────┼───────────────┤\n",
       "│ dropout_24 (\u001b[38;5;33mDropout\u001b[0m)            │ (\u001b[38;5;45mNone\u001b[0m, \u001b[38;5;34m200\u001b[0m)            │             \u001b[38;5;34m0\u001b[0m │\n",
       "├─────────────────────────────────┼────────────────────────┼───────────────┤\n",
       "│ dense_28 (\u001b[38;5;33mDense\u001b[0m)                │ (\u001b[38;5;45mNone\u001b[0m, \u001b[38;5;34m100\u001b[0m)            │        \u001b[38;5;34m20,100\u001b[0m │\n",
       "├─────────────────────────────────┼────────────────────────┼───────────────┤\n",
       "│ dropout_25 (\u001b[38;5;33mDropout\u001b[0m)            │ (\u001b[38;5;45mNone\u001b[0m, \u001b[38;5;34m100\u001b[0m)            │             \u001b[38;5;34m0\u001b[0m │\n",
       "├─────────────────────────────────┼────────────────────────┼───────────────┤\n",
       "│ dense_29 (\u001b[38;5;33mDense\u001b[0m)                │ (\u001b[38;5;45mNone\u001b[0m, \u001b[38;5;34m2\u001b[0m)              │           \u001b[38;5;34m202\u001b[0m │\n",
       "└─────────────────────────────────┴────────────────────────┴───────────────┘\n"
      ]
     },
     "metadata": {},
     "output_type": "display_data"
    },
    {
     "data": {
      "text/html": [
       "<pre style=\"white-space:pre;overflow-x:auto;line-height:normal;font-family:Menlo,'DejaVu Sans Mono',consolas,'Courier New',monospace\"><span style=\"font-weight: bold\"> Total params: </span><span style=\"color: #00af00; text-decoration-color: #00af00\">4,020,502</span> (15.34 MB)\n",
       "</pre>\n"
      ],
      "text/plain": [
       "\u001b[1m Total params: \u001b[0m\u001b[38;5;34m4,020,502\u001b[0m (15.34 MB)\n"
      ]
     },
     "metadata": {},
     "output_type": "display_data"
    },
    {
     "data": {
      "text/html": [
       "<pre style=\"white-space:pre;overflow-x:auto;line-height:normal;font-family:Menlo,'DejaVu Sans Mono',consolas,'Courier New',monospace\"><span style=\"font-weight: bold\"> Trainable params: </span><span style=\"color: #00af00; text-decoration-color: #00af00\">4,020,502</span> (15.34 MB)\n",
       "</pre>\n"
      ],
      "text/plain": [
       "\u001b[1m Trainable params: \u001b[0m\u001b[38;5;34m4,020,502\u001b[0m (15.34 MB)\n"
      ]
     },
     "metadata": {},
     "output_type": "display_data"
    },
    {
     "data": {
      "text/html": [
       "<pre style=\"white-space:pre;overflow-x:auto;line-height:normal;font-family:Menlo,'DejaVu Sans Mono',consolas,'Courier New',monospace\"><span style=\"font-weight: bold\"> Non-trainable params: </span><span style=\"color: #00af00; text-decoration-color: #00af00\">0</span> (0.00 B)\n",
       "</pre>\n"
      ],
      "text/plain": [
       "\u001b[1m Non-trainable params: \u001b[0m\u001b[38;5;34m0\u001b[0m (0.00 B)\n"
      ]
     },
     "metadata": {},
     "output_type": "display_data"
    }
   ],
   "source": [
    "model = Sequential( # Создание модели нейронной сети\n",
    "    [\n",
    "        Input((VOCAB_SIZE,)),\n",
    "        Dense(200, activation=\"relu\"),\n",
    "        Dropout(0.4),\n",
    "        Dense(100),\n",
    "        Dropout(0.4),\n",
    "        Dense(2, activation=\"softmax\"),\n",
    "    ]\n",
    ")\n",
    "\n",
    "# Компиляция модели с оптимизатором Adam и функцией потерь categorical_crossentropy\n",
    "model.compile(\n",
    "    optimizer=Adam(learning_rate=0.001),\n",
    "    loss=\"categorical_crossentropy\",\n",
    "    metrics=[\"accuracy\"],\n",
    ")\n",
    "\n",
    "model.summary() # Вывод структуры модели\n"
   ]
  },
  {
   "cell_type": "code",
   "execution_count": null,
   "metadata": {},
   "outputs": [
    {
     "name": "stdout",
     "output_type": "stream",
     "text": [
      "Epoch 1/150\n",
      "\u001b[1m18/18\u001b[0m \u001b[32m━━━━━━━━━━━━━━━━━━━━\u001b[0m\u001b[37m\u001b[0m \u001b[1m3s\u001b[0m 75ms/step - accuracy: 0.8041 - loss: 0.3263 - val_accuracy: 0.7049 - val_loss: 0.4357\n",
      "Epoch 2/150\n",
      "\u001b[1m18/18\u001b[0m \u001b[32m━━━━━━━━━━━━━━━━━━━━\u001b[0m\u001b[37m\u001b[0m \u001b[1m0s\u001b[0m 7ms/step - accuracy: 1.0000 - loss: 3.5375e-04 - val_accuracy: 0.6557 - val_loss: 0.5684\n",
      "Epoch 3/150\n",
      "\u001b[1m18/18\u001b[0m \u001b[32m━━━━━━━━━━━━━━━━━━━━\u001b[0m\u001b[37m\u001b[0m \u001b[1m0s\u001b[0m 6ms/step - accuracy: 1.0000 - loss: 1.6023e-05 - val_accuracy: 0.6557 - val_loss: 0.5819\n",
      "Epoch 4/150\n",
      "\u001b[1m18/18\u001b[0m \u001b[32m━━━━━━━━━━━━━━━━━━━━\u001b[0m\u001b[37m\u001b[0m \u001b[1m0s\u001b[0m 6ms/step - accuracy: 1.0000 - loss: 4.2344e-05 - val_accuracy: 0.7049 - val_loss: 0.5321\n",
      "Epoch 5/150\n",
      "\u001b[1m18/18\u001b[0m \u001b[32m━━━━━━━━━━━━━━━━━━━━\u001b[0m\u001b[37m\u001b[0m \u001b[1m0s\u001b[0m 7ms/step - accuracy: 1.0000 - loss: 3.9097e-07 - val_accuracy: 0.7213 - val_loss: 0.5155\n",
      "Epoch 6/150\n",
      "\u001b[1m18/18\u001b[0m \u001b[32m━━━━━━━━━━━━━━━━━━━━\u001b[0m\u001b[37m\u001b[0m \u001b[1m0s\u001b[0m 7ms/step - accuracy: 1.0000 - loss: 1.0966e-07 - val_accuracy: 0.7213 - val_loss: 0.5086\n",
      "Epoch 7/150\n",
      "\u001b[1m18/18\u001b[0m \u001b[32m━━━━━━━━━━━━━━━━━━━━\u001b[0m\u001b[37m\u001b[0m \u001b[1m0s\u001b[0m 7ms/step - accuracy: 1.0000 - loss: 9.1461e-07 - val_accuracy: 0.7213 - val_loss: 0.5010\n",
      "Epoch 8/150\n",
      "\u001b[1m18/18\u001b[0m \u001b[32m━━━━━━━━━━━━━━━━━━━━\u001b[0m\u001b[37m\u001b[0m \u001b[1m0s\u001b[0m 7ms/step - accuracy: 1.0000 - loss: 1.5939e-05 - val_accuracy: 0.7213 - val_loss: 0.4614\n",
      "Epoch 9/150\n",
      "\u001b[1m18/18\u001b[0m \u001b[32m━━━━━━━━━━━━━━━━━━━━\u001b[0m\u001b[37m\u001b[0m \u001b[1m0s\u001b[0m 7ms/step - accuracy: 1.0000 - loss: 1.2444e-06 - val_accuracy: 0.7705 - val_loss: 0.3629\n",
      "Epoch 10/150\n",
      "\u001b[1m18/18\u001b[0m \u001b[32m━━━━━━━━━━━━━━━━━━━━\u001b[0m\u001b[37m\u001b[0m \u001b[1m0s\u001b[0m 7ms/step - accuracy: 1.0000 - loss: 1.3048e-07 - val_accuracy: 0.7705 - val_loss: 0.3421\n",
      "Epoch 11/150\n",
      "\u001b[1m18/18\u001b[0m \u001b[32m━━━━━━━━━━━━━━━━━━━━\u001b[0m\u001b[37m\u001b[0m \u001b[1m0s\u001b[0m 7ms/step - accuracy: 1.0000 - loss: 2.3410e-06 - val_accuracy: 0.8197 - val_loss: 0.3191\n",
      "Epoch 12/150\n",
      "\u001b[1m18/18\u001b[0m \u001b[32m━━━━━━━━━━━━━━━━━━━━\u001b[0m\u001b[37m\u001b[0m \u001b[1m0s\u001b[0m 7ms/step - accuracy: 1.0000 - loss: 5.1573e-08 - val_accuracy: 0.8197 - val_loss: 0.3132\n",
      "Epoch 13/150\n",
      "\u001b[1m18/18\u001b[0m \u001b[32m━━━━━━━━━━━━━━━━━━━━\u001b[0m\u001b[37m\u001b[0m \u001b[1m0s\u001b[0m 7ms/step - accuracy: 1.0000 - loss: 4.1156e-07 - val_accuracy: 0.8197 - val_loss: 0.3099\n",
      "Epoch 14/150\n",
      "\u001b[1m18/18\u001b[0m \u001b[32m━━━━━━━━━━━━━━━━━━━━\u001b[0m\u001b[37m\u001b[0m \u001b[1m0s\u001b[0m 7ms/step - accuracy: 1.0000 - loss: 1.4478e-06 - val_accuracy: 0.8361 - val_loss: 0.2846\n",
      "Epoch 15/150\n",
      "\u001b[1m18/18\u001b[0m \u001b[32m━━━━━━━━━━━━━━━━━━━━\u001b[0m\u001b[37m\u001b[0m \u001b[1m0s\u001b[0m 9ms/step - accuracy: 1.0000 - loss: 2.2898e-07 - val_accuracy: 0.8689 - val_loss: 0.2631\n",
      "Epoch 16/150\n",
      "\u001b[1m18/18\u001b[0m \u001b[32m━━━━━━━━━━━━━━━━━━━━\u001b[0m\u001b[37m\u001b[0m \u001b[1m0s\u001b[0m 7ms/step - accuracy: 1.0000 - loss: 5.7581e-08 - val_accuracy: 0.8852 - val_loss: 0.2522\n",
      "Epoch 17/150\n",
      "\u001b[1m18/18\u001b[0m \u001b[32m━━━━━━━━━━━━━━━━━━━━\u001b[0m\u001b[37m\u001b[0m \u001b[1m0s\u001b[0m 7ms/step - accuracy: 1.0000 - loss: 7.7565e-08 - val_accuracy: 0.8852 - val_loss: 0.2462\n",
      "Epoch 18/150\n",
      "\u001b[1m18/18\u001b[0m \u001b[32m━━━━━━━━━━━━━━━━━━━━\u001b[0m\u001b[37m\u001b[0m \u001b[1m0s\u001b[0m 7ms/step - accuracy: 1.0000 - loss: 1.6190e-08 - val_accuracy: 0.9016 - val_loss: 0.2250\n",
      "Epoch 19/150\n",
      "\u001b[1m18/18\u001b[0m \u001b[32m━━━━━━━━━━━━━━━━━━━━\u001b[0m\u001b[37m\u001b[0m \u001b[1m0s\u001b[0m 7ms/step - accuracy: 1.0000 - loss: 1.4990e-07 - val_accuracy: 0.9016 - val_loss: 0.2220\n",
      "Epoch 20/150\n",
      "\u001b[1m18/18\u001b[0m \u001b[32m━━━━━━━━━━━━━━━━━━━━\u001b[0m\u001b[37m\u001b[0m \u001b[1m0s\u001b[0m 8ms/step - accuracy: 1.0000 - loss: 3.4055e-06 - val_accuracy: 0.9016 - val_loss: 0.1968\n",
      "Epoch 21/150\n",
      "\u001b[1m18/18\u001b[0m \u001b[32m━━━━━━━━━━━━━━━━━━━━\u001b[0m\u001b[37m\u001b[0m \u001b[1m0s\u001b[0m 7ms/step - accuracy: 1.0000 - loss: 1.6288e-07 - val_accuracy: 0.9180 - val_loss: 0.1830\n",
      "Epoch 22/150\n",
      "\u001b[1m18/18\u001b[0m \u001b[32m━━━━━━━━━━━━━━━━━━━━\u001b[0m\u001b[37m\u001b[0m \u001b[1m0s\u001b[0m 7ms/step - accuracy: 1.0000 - loss: 2.3969e-08 - val_accuracy: 0.9180 - val_loss: 0.1828\n",
      "Epoch 23/150\n",
      "\u001b[1m18/18\u001b[0m \u001b[32m━━━━━━━━━━━━━━━━━━━━\u001b[0m\u001b[37m\u001b[0m \u001b[1m0s\u001b[0m 7ms/step - accuracy: 1.0000 - loss: 2.9724e-08 - val_accuracy: 0.9180 - val_loss: 0.1828\n",
      "Epoch 24/150\n",
      "\u001b[1m18/18\u001b[0m \u001b[32m━━━━━━━━━━━━━━━━━━━━\u001b[0m\u001b[37m\u001b[0m \u001b[1m0s\u001b[0m 7ms/step - accuracy: 1.0000 - loss: 8.3414e-08 - val_accuracy: 0.9180 - val_loss: 0.1817\n",
      "Epoch 25/150\n",
      "\u001b[1m18/18\u001b[0m \u001b[32m━━━━━━━━━━━━━━━━━━━━\u001b[0m\u001b[37m\u001b[0m \u001b[1m0s\u001b[0m 7ms/step - accuracy: 1.0000 - loss: 9.8912e-06 - val_accuracy: 0.9344 - val_loss: 0.1322\n",
      "Epoch 26/150\n",
      "\u001b[1m18/18\u001b[0m \u001b[32m━━━━━━━━━━━━━━━━━━━━\u001b[0m\u001b[37m\u001b[0m \u001b[1m0s\u001b[0m 7ms/step - accuracy: 1.0000 - loss: 3.5523e-08 - val_accuracy: 0.9508 - val_loss: 0.1145\n",
      "Epoch 27/150\n",
      "\u001b[1m18/18\u001b[0m \u001b[32m━━━━━━━━━━━━━━━━━━━━\u001b[0m\u001b[37m\u001b[0m \u001b[1m0s\u001b[0m 7ms/step - accuracy: 1.0000 - loss: 5.5295e-08 - val_accuracy: 0.9508 - val_loss: 0.1120\n",
      "Epoch 28/150\n",
      "\u001b[1m18/18\u001b[0m \u001b[32m━━━━━━━━━━━━━━━━━━━━\u001b[0m\u001b[37m\u001b[0m \u001b[1m0s\u001b[0m 7ms/step - accuracy: 1.0000 - loss: 5.8691e-09 - val_accuracy: 0.9508 - val_loss: 0.1117\n",
      "Epoch 29/150\n",
      "\u001b[1m18/18\u001b[0m \u001b[32m━━━━━━━━━━━━━━━━━━━━\u001b[0m\u001b[37m\u001b[0m \u001b[1m0s\u001b[0m 7ms/step - accuracy: 1.0000 - loss: 2.5023e-08 - val_accuracy: 0.9508 - val_loss: 0.1120\n",
      "Epoch 30/150\n",
      "\u001b[1m18/18\u001b[0m \u001b[32m━━━━━━━━━━━━━━━━━━━━\u001b[0m\u001b[37m\u001b[0m \u001b[1m0s\u001b[0m 7ms/step - accuracy: 1.0000 - loss: 9.7465e-08 - val_accuracy: 0.9508 - val_loss: 0.1128\n",
      "Epoch 31/150\n",
      "\u001b[1m18/18\u001b[0m \u001b[32m━━━━━━━━━━━━━━━━━━━━\u001b[0m\u001b[37m\u001b[0m \u001b[1m0s\u001b[0m 7ms/step - accuracy: 1.0000 - loss: 8.2709e-07 - val_accuracy: 0.9508 - val_loss: 0.1108\n",
      "Epoch 32/150\n",
      "\u001b[1m18/18\u001b[0m \u001b[32m━━━━━━━━━━━━━━━━━━━━\u001b[0m\u001b[37m\u001b[0m \u001b[1m0s\u001b[0m 7ms/step - accuracy: 1.0000 - loss: 1.9512e-06 - val_accuracy: 0.9508 - val_loss: 0.1056\n",
      "Epoch 33/150\n",
      "\u001b[1m18/18\u001b[0m \u001b[32m━━━━━━━━━━━━━━━━━━━━\u001b[0m\u001b[37m\u001b[0m \u001b[1m0s\u001b[0m 7ms/step - accuracy: 1.0000 - loss: 6.4157e-08 - val_accuracy: 0.9508 - val_loss: 0.1047\n",
      "Epoch 34/150\n",
      "\u001b[1m18/18\u001b[0m \u001b[32m━━━━━━━━━━━━━━━━━━━━\u001b[0m\u001b[37m\u001b[0m \u001b[1m0s\u001b[0m 7ms/step - accuracy: 1.0000 - loss: 3.4718e-08 - val_accuracy: 0.9508 - val_loss: 0.1048\n",
      "Epoch 35/150\n",
      "\u001b[1m18/18\u001b[0m \u001b[32m━━━━━━━━━━━━━━━━━━━━\u001b[0m\u001b[37m\u001b[0m \u001b[1m0s\u001b[0m 7ms/step - accuracy: 1.0000 - loss: 8.6240e-08 - val_accuracy: 0.9508 - val_loss: 0.1061\n",
      "Epoch 36/150\n",
      "\u001b[1m18/18\u001b[0m \u001b[32m━━━━━━━━━━━━━━━━━━━━\u001b[0m\u001b[37m\u001b[0m \u001b[1m0s\u001b[0m 8ms/step - accuracy: 1.0000 - loss: 1.9171e-07 - val_accuracy: 0.9508 - val_loss: 0.1109\n",
      "Epoch 37/150\n",
      "\u001b[1m18/18\u001b[0m \u001b[32m━━━━━━━━━━━━━━━━━━━━\u001b[0m\u001b[37m\u001b[0m \u001b[1m0s\u001b[0m 7ms/step - accuracy: 1.0000 - loss: 9.6666e-09 - val_accuracy: 0.9508 - val_loss: 0.1128\n",
      "Epoch 38/150\n",
      "\u001b[1m18/18\u001b[0m \u001b[32m━━━━━━━━━━━━━━━━━━━━\u001b[0m\u001b[37m\u001b[0m \u001b[1m0s\u001b[0m 7ms/step - accuracy: 1.0000 - loss: 2.5102e-06 - val_accuracy: 0.9344 - val_loss: 0.1271\n",
      "Epoch 39/150\n",
      "\u001b[1m18/18\u001b[0m \u001b[32m━━━━━━━━━━━━━━━━━━━━\u001b[0m\u001b[37m\u001b[0m \u001b[1m0s\u001b[0m 7ms/step - accuracy: 1.0000 - loss: 3.6143e-08 - val_accuracy: 0.9344 - val_loss: 0.1339\n",
      "Epoch 40/150\n",
      "\u001b[1m18/18\u001b[0m \u001b[32m━━━━━━━━━━━━━━━━━━━━\u001b[0m\u001b[37m\u001b[0m \u001b[1m0s\u001b[0m 7ms/step - accuracy: 1.0000 - loss: 2.7607e-08 - val_accuracy: 0.9344 - val_loss: 0.1350\n",
      "Epoch 41/150\n",
      "\u001b[1m18/18\u001b[0m \u001b[32m━━━━━━━━━━━━━━━━━━━━\u001b[0m\u001b[37m\u001b[0m \u001b[1m0s\u001b[0m 7ms/step - accuracy: 1.0000 - loss: 1.4989e-07 - val_accuracy: 0.9344 - val_loss: 0.1392\n",
      "Epoch 42/150\n",
      "\u001b[1m18/18\u001b[0m \u001b[32m━━━━━━━━━━━━━━━━━━━━\u001b[0m\u001b[37m\u001b[0m \u001b[1m0s\u001b[0m 8ms/step - accuracy: 1.0000 - loss: 2.1236e-08 - val_accuracy: 0.9344 - val_loss: 0.1424\n",
      "Epoch 43/150\n",
      "\u001b[1m18/18\u001b[0m \u001b[32m━━━━━━━━━━━━━━━━━━━━\u001b[0m\u001b[37m\u001b[0m \u001b[1m0s\u001b[0m 7ms/step - accuracy: 1.0000 - loss: 3.5405e-07 - val_accuracy: 0.9344 - val_loss: 0.1439\n",
      "Epoch 44/150\n",
      "\u001b[1m18/18\u001b[0m \u001b[32m━━━━━━━━━━━━━━━━━━━━\u001b[0m\u001b[37m\u001b[0m \u001b[1m0s\u001b[0m 7ms/step - accuracy: 1.0000 - loss: 3.4964e-08 - val_accuracy: 0.9344 - val_loss: 0.1452\n",
      "Epoch 45/150\n",
      "\u001b[1m18/18\u001b[0m \u001b[32m━━━━━━━━━━━━━━━━━━━━\u001b[0m\u001b[37m\u001b[0m \u001b[1m0s\u001b[0m 7ms/step - accuracy: 1.0000 - loss: 2.3604e-08 - val_accuracy: 0.9344 - val_loss: 0.1459\n",
      "Epoch 46/150\n",
      "\u001b[1m18/18\u001b[0m \u001b[32m━━━━━━━━━━━━━━━━━━━━\u001b[0m\u001b[37m\u001b[0m \u001b[1m0s\u001b[0m 7ms/step - accuracy: 1.0000 - loss: 3.7183e-08 - val_accuracy: 0.9344 - val_loss: 0.1465\n",
      "Epoch 47/150\n",
      "\u001b[1m18/18\u001b[0m \u001b[32m━━━━━━━━━━━━━━━━━━━━\u001b[0m\u001b[37m\u001b[0m \u001b[1m0s\u001b[0m 7ms/step - accuracy: 1.0000 - loss: 5.2861e-07 - val_accuracy: 0.9344 - val_loss: 0.1464\n",
      "Epoch 48/150\n",
      "\u001b[1m18/18\u001b[0m \u001b[32m━━━━━━━━━━━━━━━━━━━━\u001b[0m\u001b[37m\u001b[0m \u001b[1m0s\u001b[0m 10ms/step - accuracy: 1.0000 - loss: 1.1553e-08 - val_accuracy: 0.9344 - val_loss: 0.1463\n",
      "Epoch 49/150\n",
      "\u001b[1m18/18\u001b[0m \u001b[32m━━━━━━━━━━━━━━━━━━━━\u001b[0m\u001b[37m\u001b[0m \u001b[1m0s\u001b[0m 7ms/step - accuracy: 1.0000 - loss: 1.5620e-06 - val_accuracy: 0.9344 - val_loss: 0.1250\n",
      "Epoch 50/150\n",
      "\u001b[1m18/18\u001b[0m \u001b[32m━━━━━━━━━━━━━━━━━━━━\u001b[0m\u001b[37m\u001b[0m \u001b[1m0s\u001b[0m 8ms/step - accuracy: 1.0000 - loss: 2.2412e-08 - val_accuracy: 0.9508 - val_loss: 0.1136\n",
      "Epoch 51/150\n",
      "\u001b[1m18/18\u001b[0m \u001b[32m━━━━━━━━━━━━━━━━━━━━\u001b[0m\u001b[37m\u001b[0m \u001b[1m0s\u001b[0m 7ms/step - accuracy: 1.0000 - loss: 1.1010e-08 - val_accuracy: 0.9508 - val_loss: 0.1121\n",
      "Epoch 52/150\n",
      "\u001b[1m18/18\u001b[0m \u001b[32m━━━━━━━━━━━━━━━━━━━━\u001b[0m\u001b[37m\u001b[0m \u001b[1m0s\u001b[0m 7ms/step - accuracy: 1.0000 - loss: 9.4296e-09 - val_accuracy: 0.9508 - val_loss: 0.1119\n",
      "Epoch 53/150\n",
      "\u001b[1m18/18\u001b[0m \u001b[32m━━━━━━━━━━━━━━━━━━━━\u001b[0m\u001b[37m\u001b[0m \u001b[1m0s\u001b[0m 7ms/step - accuracy: 1.0000 - loss: 2.3480e-09 - val_accuracy: 0.9508 - val_loss: 0.1121\n",
      "Epoch 54/150\n",
      "\u001b[1m18/18\u001b[0m \u001b[32m━━━━━━━━━━━━━━━━━━━━\u001b[0m\u001b[37m\u001b[0m \u001b[1m0s\u001b[0m 7ms/step - accuracy: 1.0000 - loss: 8.3799e-09 - val_accuracy: 0.9508 - val_loss: 0.1123\n",
      "Epoch 55/150\n",
      "\u001b[1m18/18\u001b[0m \u001b[32m━━━━━━━━━━━━━━━━━━━━\u001b[0m\u001b[37m\u001b[0m \u001b[1m0s\u001b[0m 7ms/step - accuracy: 1.0000 - loss: 7.0529e-08 - val_accuracy: 0.9508 - val_loss: 0.1137\n",
      "Epoch 56/150\n",
      "\u001b[1m18/18\u001b[0m \u001b[32m━━━━━━━━━━━━━━━━━━━━\u001b[0m\u001b[37m\u001b[0m \u001b[1m0s\u001b[0m 7ms/step - accuracy: 1.0000 - loss: 4.6397e-06 - val_accuracy: 0.9508 - val_loss: 0.1031\n",
      "Epoch 57/150\n",
      "\u001b[1m18/18\u001b[0m \u001b[32m━━━━━━━━━━━━━━━━━━━━\u001b[0m\u001b[37m\u001b[0m \u001b[1m0s\u001b[0m 8ms/step - accuracy: 1.0000 - loss: 2.2308e-08 - val_accuracy: 0.9508 - val_loss: 0.1023\n",
      "Epoch 58/150\n",
      "\u001b[1m18/18\u001b[0m \u001b[32m━━━━━━━━━━━━━━━━━━━━\u001b[0m\u001b[37m\u001b[0m \u001b[1m0s\u001b[0m 7ms/step - accuracy: 1.0000 - loss: 2.0194e-08 - val_accuracy: 0.9508 - val_loss: 0.1021\n",
      "Epoch 59/150\n",
      "\u001b[1m18/18\u001b[0m \u001b[32m━━━━━━━━━━━━━━━━━━━━\u001b[0m\u001b[37m\u001b[0m \u001b[1m0s\u001b[0m 7ms/step - accuracy: 1.0000 - loss: 5.7431e-09 - val_accuracy: 0.9508 - val_loss: 0.1019\n",
      "Epoch 60/150\n",
      "\u001b[1m18/18\u001b[0m \u001b[32m━━━━━━━━━━━━━━━━━━━━\u001b[0m\u001b[37m\u001b[0m \u001b[1m0s\u001b[0m 7ms/step - accuracy: 1.0000 - loss: 7.6206e-09 - val_accuracy: 0.9508 - val_loss: 0.1020\n",
      "Epoch 61/150\n",
      "\u001b[1m18/18\u001b[0m \u001b[32m━━━━━━━━━━━━━━━━━━━━\u001b[0m\u001b[37m\u001b[0m \u001b[1m0s\u001b[0m 8ms/step - accuracy: 1.0000 - loss: 1.9540e-08 - val_accuracy: 0.9508 - val_loss: 0.1025\n",
      "Epoch 62/150\n",
      "\u001b[1m18/18\u001b[0m \u001b[32m━━━━━━━━━━━━━━━━━━━━\u001b[0m\u001b[37m\u001b[0m \u001b[1m0s\u001b[0m 7ms/step - accuracy: 1.0000 - loss: 9.4233e-06 - val_accuracy: 0.9344 - val_loss: 0.1195\n",
      "Epoch 63/150\n",
      "\u001b[1m18/18\u001b[0m \u001b[32m━━━━━━━━━━━━━━━━━━━━\u001b[0m\u001b[37m\u001b[0m \u001b[1m0s\u001b[0m 7ms/step - accuracy: 1.0000 - loss: 1.0815e-09 - val_accuracy: 0.9344 - val_loss: 0.1239\n",
      "Epoch 64/150\n",
      "\u001b[1m18/18\u001b[0m \u001b[32m━━━━━━━━━━━━━━━━━━━━\u001b[0m\u001b[37m\u001b[0m \u001b[1m0s\u001b[0m 8ms/step - accuracy: 1.0000 - loss: 1.8706e-08 - val_accuracy: 0.9344 - val_loss: 0.1254\n",
      "Epoch 65/150\n",
      "\u001b[1m18/18\u001b[0m \u001b[32m━━━━━━━━━━━━━━━━━━━━\u001b[0m\u001b[37m\u001b[0m \u001b[1m0s\u001b[0m 8ms/step - accuracy: 1.0000 - loss: 3.8103e-08 - val_accuracy: 0.9344 - val_loss: 0.1302\n",
      "Epoch 66/150\n",
      "\u001b[1m18/18\u001b[0m \u001b[32m━━━━━━━━━━━━━━━━━━━━\u001b[0m\u001b[37m\u001b[0m \u001b[1m0s\u001b[0m 8ms/step - accuracy: 1.0000 - loss: 1.4238e-07 - val_accuracy: 0.9180 - val_loss: 0.1421\n",
      "Epoch 67/150\n",
      "\u001b[1m18/18\u001b[0m \u001b[32m━━━━━━━━━━━━━━━━━━━━\u001b[0m\u001b[37m\u001b[0m \u001b[1m0s\u001b[0m 7ms/step - accuracy: 1.0000 - loss: 3.5576e-08 - val_accuracy: 0.9180 - val_loss: 0.1427\n",
      "Epoch 68/150\n",
      "\u001b[1m18/18\u001b[0m \u001b[32m━━━━━━━━━━━━━━━━━━━━\u001b[0m\u001b[37m\u001b[0m \u001b[1m0s\u001b[0m 7ms/step - accuracy: 1.0000 - loss: 2.9122e-08 - val_accuracy: 0.9180 - val_loss: 0.1427\n",
      "Epoch 69/150\n",
      "\u001b[1m18/18\u001b[0m \u001b[32m━━━━━━━━━━━━━━━━━━━━\u001b[0m\u001b[37m\u001b[0m \u001b[1m0s\u001b[0m 9ms/step - accuracy: 1.0000 - loss: 3.6718e-09 - val_accuracy: 0.9180 - val_loss: 0.1428\n",
      "Epoch 70/150\n",
      "\u001b[1m18/18\u001b[0m \u001b[32m━━━━━━━━━━━━━━━━━━━━\u001b[0m\u001b[37m\u001b[0m \u001b[1m0s\u001b[0m 8ms/step - accuracy: 1.0000 - loss: 1.1167e-09 - val_accuracy: 0.9180 - val_loss: 0.1428\n",
      "Epoch 71/150\n",
      "\u001b[1m18/18\u001b[0m \u001b[32m━━━━━━━━━━━━━━━━━━━━\u001b[0m\u001b[37m\u001b[0m \u001b[1m0s\u001b[0m 8ms/step - accuracy: 1.0000 - loss: 1.6760e-09 - val_accuracy: 0.9180 - val_loss: 0.1429\n",
      "Epoch 72/150\n",
      "\u001b[1m18/18\u001b[0m \u001b[32m━━━━━━━━━━━━━━━━━━━━\u001b[0m\u001b[37m\u001b[0m \u001b[1m0s\u001b[0m 8ms/step - accuracy: 1.0000 - loss: 1.0780e-09 - val_accuracy: 0.9180 - val_loss: 0.1428\n",
      "Epoch 73/150\n",
      "\u001b[1m18/18\u001b[0m \u001b[32m━━━━━━━━━━━━━━━━━━━━\u001b[0m\u001b[37m\u001b[0m \u001b[1m0s\u001b[0m 8ms/step - accuracy: 1.0000 - loss: 2.0347e-07 - val_accuracy: 0.9180 - val_loss: 0.1464\n",
      "Epoch 74/150\n",
      "\u001b[1m18/18\u001b[0m \u001b[32m━━━━━━━━━━━━━━━━━━━━\u001b[0m\u001b[37m\u001b[0m \u001b[1m0s\u001b[0m 8ms/step - accuracy: 1.0000 - loss: 8.7779e-10 - val_accuracy: 0.9180 - val_loss: 0.1472\n",
      "Epoch 75/150\n",
      "\u001b[1m18/18\u001b[0m \u001b[32m━━━━━━━━━━━━━━━━━━━━\u001b[0m\u001b[37m\u001b[0m \u001b[1m0s\u001b[0m 7ms/step - accuracy: 1.0000 - loss: 1.7242e-09 - val_accuracy: 0.9180 - val_loss: 0.1473\n",
      "Epoch 76/150\n",
      "\u001b[1m18/18\u001b[0m \u001b[32m━━━━━━━━━━━━━━━━━━━━\u001b[0m\u001b[37m\u001b[0m \u001b[1m0s\u001b[0m 8ms/step - accuracy: 1.0000 - loss: 6.9520e-07 - val_accuracy: 0.9180 - val_loss: 0.1564\n",
      "Epoch 77/150\n",
      "\u001b[1m18/18\u001b[0m \u001b[32m━━━━━━━━━━━━━━━━━━━━\u001b[0m\u001b[37m\u001b[0m \u001b[1m0s\u001b[0m 8ms/step - accuracy: 1.0000 - loss: 1.9791e-09 - val_accuracy: 0.9180 - val_loss: 0.1581\n",
      "Epoch 78/150\n",
      "\u001b[1m18/18\u001b[0m \u001b[32m━━━━━━━━━━━━━━━━━━━━\u001b[0m\u001b[37m\u001b[0m \u001b[1m0s\u001b[0m 7ms/step - accuracy: 1.0000 - loss: 2.8628e-09 - val_accuracy: 0.9180 - val_loss: 0.1583\n",
      "Epoch 79/150\n",
      "\u001b[1m18/18\u001b[0m \u001b[32m━━━━━━━━━━━━━━━━━━━━\u001b[0m\u001b[37m\u001b[0m \u001b[1m0s\u001b[0m 8ms/step - accuracy: 1.0000 - loss: 5.5429e-09 - val_accuracy: 0.9180 - val_loss: 0.1582\n",
      "Epoch 80/150\n",
      "\u001b[1m18/18\u001b[0m \u001b[32m━━━━━━━━━━━━━━━━━━━━\u001b[0m\u001b[37m\u001b[0m \u001b[1m0s\u001b[0m 7ms/step - accuracy: 1.0000 - loss: 5.0774e-09 - val_accuracy: 0.9180 - val_loss: 0.1580\n",
      "Epoch 81/150\n",
      "\u001b[1m18/18\u001b[0m \u001b[32m━━━━━━━━━━━━━━━━━━━━\u001b[0m\u001b[37m\u001b[0m \u001b[1m0s\u001b[0m 7ms/step - accuracy: 1.0000 - loss: 2.1506e-09 - val_accuracy: 0.9180 - val_loss: 0.1581\n",
      "Epoch 82/150\n",
      "\u001b[1m18/18\u001b[0m \u001b[32m━━━━━━━━━━━━━━━━━━━━\u001b[0m\u001b[37m\u001b[0m \u001b[1m0s\u001b[0m 7ms/step - accuracy: 1.0000 - loss: 2.6427e-06 - val_accuracy: 0.9180 - val_loss: 0.1601\n",
      "Epoch 83/150\n",
      "\u001b[1m18/18\u001b[0m \u001b[32m━━━━━━━━━━━━━━━━━━━━\u001b[0m\u001b[37m\u001b[0m \u001b[1m0s\u001b[0m 8ms/step - accuracy: 1.0000 - loss: 1.5359e-08 - val_accuracy: 0.9180 - val_loss: 0.1619\n",
      "Epoch 84/150\n",
      "\u001b[1m18/18\u001b[0m \u001b[32m━━━━━━━━━━━━━━━━━━━━\u001b[0m\u001b[37m\u001b[0m \u001b[1m0s\u001b[0m 7ms/step - accuracy: 1.0000 - loss: 1.9049e-07 - val_accuracy: 0.9180 - val_loss: 0.1634\n",
      "Epoch 85/150\n",
      "\u001b[1m18/18\u001b[0m \u001b[32m━━━━━━━━━━━━━━━━━━━━\u001b[0m\u001b[37m\u001b[0m \u001b[1m0s\u001b[0m 8ms/step - accuracy: 1.0000 - loss: 1.3404e-08 - val_accuracy: 0.9180 - val_loss: 0.1629\n",
      "Epoch 86/150\n",
      "\u001b[1m18/18\u001b[0m \u001b[32m━━━━━━━━━━━━━━━━━━━━\u001b[0m\u001b[37m\u001b[0m \u001b[1m0s\u001b[0m 7ms/step - accuracy: 1.0000 - loss: 1.9334e-08 - val_accuracy: 0.9180 - val_loss: 0.1619\n",
      "Epoch 87/150\n",
      "\u001b[1m18/18\u001b[0m \u001b[32m━━━━━━━━━━━━━━━━━━━━\u001b[0m\u001b[37m\u001b[0m \u001b[1m0s\u001b[0m 7ms/step - accuracy: 1.0000 - loss: 8.1347e-09 - val_accuracy: 0.9180 - val_loss: 0.1621\n",
      "Epoch 88/150\n",
      "\u001b[1m18/18\u001b[0m \u001b[32m━━━━━━━━━━━━━━━━━━━━\u001b[0m\u001b[37m\u001b[0m \u001b[1m0s\u001b[0m 8ms/step - accuracy: 1.0000 - loss: 4.0194e-08 - val_accuracy: 0.9180 - val_loss: 0.1635\n",
      "Epoch 89/150\n",
      "\u001b[1m18/18\u001b[0m \u001b[32m━━━━━━━━━━━━━━━━━━━━\u001b[0m\u001b[37m\u001b[0m \u001b[1m0s\u001b[0m 7ms/step - accuracy: 1.0000 - loss: 8.1492e-08 - val_accuracy: 0.9180 - val_loss: 0.1618\n",
      "Epoch 90/150\n",
      "\u001b[1m18/18\u001b[0m \u001b[32m━━━━━━━━━━━━━━━━━━━━\u001b[0m\u001b[37m\u001b[0m \u001b[1m0s\u001b[0m 7ms/step - accuracy: 1.0000 - loss: 2.9349e-09 - val_accuracy: 0.9180 - val_loss: 0.1613\n",
      "Epoch 91/150\n",
      "\u001b[1m18/18\u001b[0m \u001b[32m━━━━━━━━━━━━━━━━━━━━\u001b[0m\u001b[37m\u001b[0m \u001b[1m0s\u001b[0m 8ms/step - accuracy: 1.0000 - loss: 5.6793e-08 - val_accuracy: 0.9180 - val_loss: 0.1598\n",
      "Epoch 92/150\n",
      "\u001b[1m18/18\u001b[0m \u001b[32m━━━━━━━━━━━━━━━━━━━━\u001b[0m\u001b[37m\u001b[0m \u001b[1m0s\u001b[0m 7ms/step - accuracy: 1.0000 - loss: 2.9180e-08 - val_accuracy: 0.9180 - val_loss: 0.1588\n",
      "Epoch 93/150\n",
      "\u001b[1m18/18\u001b[0m \u001b[32m━━━━━━━━━━━━━━━━━━━━\u001b[0m\u001b[37m\u001b[0m \u001b[1m0s\u001b[0m 7ms/step - accuracy: 1.0000 - loss: 1.0562e-08 - val_accuracy: 0.9180 - val_loss: 0.1582\n",
      "Epoch 94/150\n",
      "\u001b[1m18/18\u001b[0m \u001b[32m━━━━━━━━━━━━━━━━━━━━\u001b[0m\u001b[37m\u001b[0m \u001b[1m0s\u001b[0m 8ms/step - accuracy: 1.0000 - loss: 4.8475e-08 - val_accuracy: 0.9180 - val_loss: 0.1582\n",
      "Epoch 95/150\n",
      "\u001b[1m18/18\u001b[0m \u001b[32m━━━━━━━━━━━━━━━━━━━━\u001b[0m\u001b[37m\u001b[0m \u001b[1m0s\u001b[0m 7ms/step - accuracy: 1.0000 - loss: 4.0796e-07 - val_accuracy: 0.9180 - val_loss: 0.1493\n",
      "Epoch 96/150\n",
      "\u001b[1m18/18\u001b[0m \u001b[32m━━━━━━━━━━━━━━━━━━━━\u001b[0m\u001b[37m\u001b[0m \u001b[1m0s\u001b[0m 7ms/step - accuracy: 1.0000 - loss: 1.0274e-07 - val_accuracy: 0.9344 - val_loss: 0.1222\n",
      "Epoch 97/150\n",
      "\u001b[1m18/18\u001b[0m \u001b[32m━━━━━━━━━━━━━━━━━━━━\u001b[0m\u001b[37m\u001b[0m \u001b[1m0s\u001b[0m 8ms/step - accuracy: 1.0000 - loss: 6.8236e-09 - val_accuracy: 0.9344 - val_loss: 0.1218\n",
      "Epoch 98/150\n",
      "\u001b[1m18/18\u001b[0m \u001b[32m━━━━━━━━━━━━━━━━━━━━\u001b[0m\u001b[37m\u001b[0m \u001b[1m0s\u001b[0m 7ms/step - accuracy: 1.0000 - loss: 3.1426e-09 - val_accuracy: 0.9344 - val_loss: 0.1217\n",
      "Epoch 99/150\n",
      "\u001b[1m18/18\u001b[0m \u001b[32m━━━━━━━━━━━━━━━━━━━━\u001b[0m\u001b[37m\u001b[0m \u001b[1m0s\u001b[0m 8ms/step - accuracy: 1.0000 - loss: 6.8427e-09 - val_accuracy: 0.9344 - val_loss: 0.1218\n",
      "Epoch 100/150\n",
      "\u001b[1m18/18\u001b[0m \u001b[32m━━━━━━━━━━━━━━━━━━━━\u001b[0m\u001b[37m\u001b[0m \u001b[1m0s\u001b[0m 7ms/step - accuracy: 1.0000 - loss: 7.5995e-09 - val_accuracy: 0.9344 - val_loss: 0.1217\n",
      "Epoch 101/150\n",
      "\u001b[1m18/18\u001b[0m \u001b[32m━━━━━━━━━━━━━━━━━━━━\u001b[0m\u001b[37m\u001b[0m \u001b[1m0s\u001b[0m 8ms/step - accuracy: 1.0000 - loss: 5.9380e-09 - val_accuracy: 0.9344 - val_loss: 0.1216\n",
      "Epoch 102/150\n",
      "\u001b[1m18/18\u001b[0m \u001b[32m━━━━━━━━━━━━━━━━━━━━\u001b[0m\u001b[37m\u001b[0m \u001b[1m0s\u001b[0m 8ms/step - accuracy: 1.0000 - loss: 6.1642e-08 - val_accuracy: 0.9344 - val_loss: 0.1219\n",
      "Epoch 103/150\n",
      "\u001b[1m18/18\u001b[0m \u001b[32m━━━━━━━━━━━━━━━━━━━━\u001b[0m\u001b[37m\u001b[0m \u001b[1m0s\u001b[0m 7ms/step - accuracy: 1.0000 - loss: 1.4362e-09 - val_accuracy: 0.9344 - val_loss: 0.1220\n",
      "Epoch 104/150\n",
      "\u001b[1m18/18\u001b[0m \u001b[32m━━━━━━━━━━━━━━━━━━━━\u001b[0m\u001b[37m\u001b[0m \u001b[1m0s\u001b[0m 10ms/step - accuracy: 1.0000 - loss: 8.3591e-08 - val_accuracy: 0.9344 - val_loss: 0.1225\n",
      "Epoch 105/150\n",
      "\u001b[1m18/18\u001b[0m \u001b[32m━━━━━━━━━━━━━━━━━━━━\u001b[0m\u001b[37m\u001b[0m \u001b[1m0s\u001b[0m 7ms/step - accuracy: 1.0000 - loss: 2.4821e-08 - val_accuracy: 0.9344 - val_loss: 0.1227\n",
      "Epoch 106/150\n",
      "\u001b[1m18/18\u001b[0m \u001b[32m━━━━━━━━━━━━━━━━━━━━\u001b[0m\u001b[37m\u001b[0m \u001b[1m0s\u001b[0m 7ms/step - accuracy: 1.0000 - loss: 0.0000e+00 - val_accuracy: 0.9344 - val_loss: 0.1227\n",
      "Epoch 107/150\n",
      "\u001b[1m18/18\u001b[0m \u001b[32m━━━━━━━━━━━━━━━━━━━━\u001b[0m\u001b[37m\u001b[0m \u001b[1m0s\u001b[0m 8ms/step - accuracy: 1.0000 - loss: 1.7789e-09 - val_accuracy: 0.9344 - val_loss: 0.1227\n",
      "Epoch 108/150\n",
      "\u001b[1m18/18\u001b[0m \u001b[32m━━━━━━━━━━━━━━━━━━━━\u001b[0m\u001b[37m\u001b[0m \u001b[1m0s\u001b[0m 7ms/step - accuracy: 1.0000 - loss: 4.2874e-07 - val_accuracy: 0.9344 - val_loss: 0.1151\n",
      "Epoch 109/150\n",
      "\u001b[1m18/18\u001b[0m \u001b[32m━━━━━━━━━━━━━━━━━━━━\u001b[0m\u001b[37m\u001b[0m \u001b[1m0s\u001b[0m 7ms/step - accuracy: 1.0000 - loss: 8.9771e-08 - val_accuracy: 0.9508 - val_loss: 0.1099\n",
      "Epoch 110/150\n",
      "\u001b[1m18/18\u001b[0m \u001b[32m━━━━━━━━━━━━━━━━━━━━\u001b[0m\u001b[37m\u001b[0m \u001b[1m0s\u001b[0m 8ms/step - accuracy: 1.0000 - loss: 1.1579e-08 - val_accuracy: 0.9508 - val_loss: 0.1089\n",
      "Epoch 111/150\n",
      "\u001b[1m18/18\u001b[0m \u001b[32m━━━━━━━━━━━━━━━━━━━━\u001b[0m\u001b[37m\u001b[0m \u001b[1m0s\u001b[0m 8ms/step - accuracy: 1.0000 - loss: 1.2439e-08 - val_accuracy: 0.9508 - val_loss: 0.1083\n",
      "Epoch 112/150\n",
      "\u001b[1m18/18\u001b[0m \u001b[32m━━━━━━━━━━━━━━━━━━━━\u001b[0m\u001b[37m\u001b[0m \u001b[1m0s\u001b[0m 7ms/step - accuracy: 1.0000 - loss: 4.2149e-08 - val_accuracy: 0.9508 - val_loss: 0.1067\n",
      "Epoch 113/150\n",
      "\u001b[1m18/18\u001b[0m \u001b[32m━━━━━━━━━━━━━━━━━━━━\u001b[0m\u001b[37m\u001b[0m \u001b[1m0s\u001b[0m 7ms/step - accuracy: 1.0000 - loss: 5.5812e-09 - val_accuracy: 0.9508 - val_loss: 0.1057\n",
      "Epoch 114/150\n",
      "\u001b[1m18/18\u001b[0m \u001b[32m━━━━━━━━━━━━━━━━━━━━\u001b[0m\u001b[37m\u001b[0m \u001b[1m0s\u001b[0m 8ms/step - accuracy: 1.0000 - loss: 1.1277e-08 - val_accuracy: 0.9508 - val_loss: 0.1055\n",
      "Epoch 115/150\n",
      "\u001b[1m18/18\u001b[0m \u001b[32m━━━━━━━━━━━━━━━━━━━━\u001b[0m\u001b[37m\u001b[0m \u001b[1m0s\u001b[0m 8ms/step - accuracy: 1.0000 - loss: 2.9361e-08 - val_accuracy: 0.9508 - val_loss: 0.1053\n",
      "Epoch 116/150\n",
      "\u001b[1m18/18\u001b[0m \u001b[32m━━━━━━━━━━━━━━━━━━━━\u001b[0m\u001b[37m\u001b[0m \u001b[1m0s\u001b[0m 7ms/step - accuracy: 1.0000 - loss: 1.3924e-08 - val_accuracy: 0.9508 - val_loss: 0.1053\n",
      "Epoch 117/150\n",
      "\u001b[1m18/18\u001b[0m \u001b[32m━━━━━━━━━━━━━━━━━━━━\u001b[0m\u001b[37m\u001b[0m \u001b[1m0s\u001b[0m 8ms/step - accuracy: 1.0000 - loss: 1.9403e-09 - val_accuracy: 0.9508 - val_loss: 0.1052\n",
      "Epoch 118/150\n",
      "\u001b[1m18/18\u001b[0m \u001b[32m━━━━━━━━━━━━━━━━━━━━\u001b[0m\u001b[37m\u001b[0m \u001b[1m0s\u001b[0m 8ms/step - accuracy: 1.0000 - loss: 2.8540e-10 - val_accuracy: 0.9508 - val_loss: 0.1052\n",
      "Epoch 119/150\n",
      "\u001b[1m18/18\u001b[0m \u001b[32m━━━━━━━━━━━━━━━━━━━━\u001b[0m\u001b[37m\u001b[0m \u001b[1m0s\u001b[0m 8ms/step - accuracy: 1.0000 - loss: 0.0000e+00 - val_accuracy: 0.9508 - val_loss: 0.1052\n",
      "Epoch 120/150\n",
      "\u001b[1m18/18\u001b[0m \u001b[32m━━━━━━━━━━━━━━━━━━━━\u001b[0m\u001b[37m\u001b[0m \u001b[1m0s\u001b[0m 8ms/step - accuracy: 1.0000 - loss: 3.8103e-09 - val_accuracy: 0.9508 - val_loss: 0.1053\n",
      "Epoch 121/150\n",
      "\u001b[1m18/18\u001b[0m \u001b[32m━━━━━━━━━━━━━━━━━━━━\u001b[0m\u001b[37m\u001b[0m \u001b[1m0s\u001b[0m 8ms/step - accuracy: 1.0000 - loss: 5.9079e-09 - val_accuracy: 0.9508 - val_loss: 0.1053\n",
      "Epoch 122/150\n",
      "\u001b[1m18/18\u001b[0m \u001b[32m━━━━━━━━━━━━━━━━━━━━\u001b[0m\u001b[37m\u001b[0m \u001b[1m0s\u001b[0m 8ms/step - accuracy: 1.0000 - loss: 1.9099e-08 - val_accuracy: 0.9508 - val_loss: 0.1055\n",
      "Epoch 123/150\n",
      "\u001b[1m18/18\u001b[0m \u001b[32m━━━━━━━━━━━━━━━━━━━━\u001b[0m\u001b[37m\u001b[0m \u001b[1m0s\u001b[0m 8ms/step - accuracy: 1.0000 - loss: 3.5571e-10 - val_accuracy: 0.9508 - val_loss: 0.1056\n",
      "Epoch 124/150\n",
      "\u001b[1m18/18\u001b[0m \u001b[32m━━━━━━━━━━━━━━━━━━━━\u001b[0m\u001b[37m\u001b[0m \u001b[1m0s\u001b[0m 8ms/step - accuracy: 1.0000 - loss: 2.1053e-10 - val_accuracy: 0.9508 - val_loss: 0.1056\n",
      "Epoch 125/150\n",
      "\u001b[1m18/18\u001b[0m \u001b[32m━━━━━━━━━━━━━━━━━━━━\u001b[0m\u001b[37m\u001b[0m \u001b[1m0s\u001b[0m 7ms/step - accuracy: 1.0000 - loss: 7.5548e-08 - val_accuracy: 0.9508 - val_loss: 0.1063\n",
      "Epoch 126/150\n",
      "\u001b[1m18/18\u001b[0m \u001b[32m━━━━━━━━━━━━━━━━━━━━\u001b[0m\u001b[37m\u001b[0m \u001b[1m0s\u001b[0m 8ms/step - accuracy: 1.0000 - loss: 3.2644e-07 - val_accuracy: 0.9508 - val_loss: 0.1085\n",
      "Epoch 127/150\n",
      "\u001b[1m18/18\u001b[0m \u001b[32m━━━━━━━━━━━━━━━━━━━━\u001b[0m\u001b[37m\u001b[0m \u001b[1m0s\u001b[0m 8ms/step - accuracy: 1.0000 - loss: 2.2523e-08 - val_accuracy: 0.9344 - val_loss: 0.1111\n",
      "Epoch 128/150\n",
      "\u001b[1m18/18\u001b[0m \u001b[32m━━━━━━━━━━━━━━━━━━━━\u001b[0m\u001b[37m\u001b[0m \u001b[1m0s\u001b[0m 8ms/step - accuracy: 1.0000 - loss: 0.0000e+00 - val_accuracy: 0.9344 - val_loss: 0.1115\n",
      "Epoch 129/150\n",
      "\u001b[1m18/18\u001b[0m \u001b[32m━━━━━━━━━━━━━━━━━━━━\u001b[0m\u001b[37m\u001b[0m \u001b[1m0s\u001b[0m 7ms/step - accuracy: 1.0000 - loss: 7.7165e-10 - val_accuracy: 0.9344 - val_loss: 0.1116\n",
      "Epoch 130/150\n",
      "\u001b[1m18/18\u001b[0m \u001b[32m━━━━━━━━━━━━━━━━━━━━\u001b[0m\u001b[37m\u001b[0m \u001b[1m0s\u001b[0m 8ms/step - accuracy: 1.0000 - loss: 4.5690e-07 - val_accuracy: 0.9344 - val_loss: 0.1167\n",
      "Epoch 131/150\n",
      "\u001b[1m18/18\u001b[0m \u001b[32m━━━━━━━━━━━━━━━━━━━━\u001b[0m\u001b[37m\u001b[0m \u001b[1m0s\u001b[0m 8ms/step - accuracy: 1.0000 - loss: 9.5506e-09 - val_accuracy: 0.9344 - val_loss: 0.1190\n",
      "Epoch 132/150\n",
      "\u001b[1m18/18\u001b[0m \u001b[32m━━━━━━━━━━━━━━━━━━━━\u001b[0m\u001b[37m\u001b[0m \u001b[1m0s\u001b[0m 8ms/step - accuracy: 1.0000 - loss: 5.2262e-09 - val_accuracy: 0.9344 - val_loss: 0.1194\n",
      "Epoch 133/150\n",
      "\u001b[1m18/18\u001b[0m \u001b[32m━━━━━━━━━━━━━━━━━━━━\u001b[0m\u001b[37m\u001b[0m \u001b[1m0s\u001b[0m 8ms/step - accuracy: 1.0000 - loss: 2.6308e-08 - val_accuracy: 0.9344 - val_loss: 0.1199\n",
      "Epoch 134/150\n",
      "\u001b[1m18/18\u001b[0m \u001b[32m━━━━━━━━━━━━━━━━━━━━\u001b[0m\u001b[37m\u001b[0m \u001b[1m0s\u001b[0m 9ms/step - accuracy: 1.0000 - loss: 1.4669e-06 - val_accuracy: 0.9672 - val_loss: 0.0746\n",
      "Epoch 135/150\n",
      "\u001b[1m18/18\u001b[0m \u001b[32m━━━━━━━━━━━━━━━━━━━━\u001b[0m\u001b[37m\u001b[0m \u001b[1m0s\u001b[0m 8ms/step - accuracy: 1.0000 - loss: 3.5905e-10 - val_accuracy: 1.0000 - val_loss: 0.0444\n",
      "Epoch 136/150\n",
      "\u001b[1m18/18\u001b[0m \u001b[32m━━━━━━━━━━━━━━━━━━━━\u001b[0m\u001b[37m\u001b[0m \u001b[1m0s\u001b[0m 8ms/step - accuracy: 1.0000 - loss: 1.1668e-07 - val_accuracy: 1.0000 - val_loss: 0.0403\n",
      "Epoch 137/150\n",
      "\u001b[1m18/18\u001b[0m \u001b[32m━━━━━━━━━━━━━━━━━━━━\u001b[0m\u001b[37m\u001b[0m \u001b[1m0s\u001b[0m 8ms/step - accuracy: 1.0000 - loss: 9.6006e-09 - val_accuracy: 1.0000 - val_loss: 0.0395\n",
      "Epoch 138/150\n",
      "\u001b[1m18/18\u001b[0m \u001b[32m━━━━━━━━━━━━━━━━━━━━\u001b[0m\u001b[37m\u001b[0m \u001b[1m0s\u001b[0m 8ms/step - accuracy: 1.0000 - loss: 9.6754e-09 - val_accuracy: 1.0000 - val_loss: 0.0398\n",
      "Epoch 139/150\n",
      "\u001b[1m18/18\u001b[0m \u001b[32m━━━━━━━━━━━━━━━━━━━━\u001b[0m\u001b[37m\u001b[0m \u001b[1m0s\u001b[0m 10ms/step - accuracy: 1.0000 - loss: 2.4158e-08 - val_accuracy: 1.0000 - val_loss: 0.0400\n",
      "Epoch 140/150\n",
      "\u001b[1m18/18\u001b[0m \u001b[32m━━━━━━━━━━━━━━━━━━━━\u001b[0m\u001b[37m\u001b[0m \u001b[1m0s\u001b[0m 8ms/step - accuracy: 1.0000 - loss: 2.8062e-10 - val_accuracy: 1.0000 - val_loss: 0.0400\n",
      "Epoch 141/150\n",
      "\u001b[1m18/18\u001b[0m \u001b[32m━━━━━━━━━━━━━━━━━━━━\u001b[0m\u001b[37m\u001b[0m \u001b[1m0s\u001b[0m 10ms/step - accuracy: 1.0000 - loss: 3.3230e-09 - val_accuracy: 1.0000 - val_loss: 0.0400\n",
      "Epoch 142/150\n",
      "\u001b[1m18/18\u001b[0m \u001b[32m━━━━━━━━━━━━━━━━━━━━\u001b[0m\u001b[37m\u001b[0m \u001b[1m0s\u001b[0m 9ms/step - accuracy: 1.0000 - loss: 9.8889e-09 - val_accuracy: 1.0000 - val_loss: 0.0401\n",
      "Epoch 143/150\n",
      "\u001b[1m18/18\u001b[0m \u001b[32m━━━━━━━━━━━━━━━━━━━━\u001b[0m\u001b[37m\u001b[0m \u001b[1m0s\u001b[0m 8ms/step - accuracy: 1.0000 - loss: 4.3992e-09 - val_accuracy: 1.0000 - val_loss: 0.0402\n",
      "Epoch 144/150\n",
      "\u001b[1m18/18\u001b[0m \u001b[32m━━━━━━━━━━━━━━━━━━━━\u001b[0m\u001b[37m\u001b[0m \u001b[1m0s\u001b[0m 8ms/step - accuracy: 1.0000 - loss: 1.3947e-09 - val_accuracy: 1.0000 - val_loss: 0.0403\n",
      "Epoch 145/150\n",
      "\u001b[1m18/18\u001b[0m \u001b[32m━━━━━━━━━━━━━━━━━━━━\u001b[0m\u001b[37m\u001b[0m \u001b[1m0s\u001b[0m 8ms/step - accuracy: 1.0000 - loss: 2.4618e-10 - val_accuracy: 1.0000 - val_loss: 0.0403\n",
      "Epoch 146/150\n",
      "\u001b[1m18/18\u001b[0m \u001b[32m━━━━━━━━━━━━━━━━━━━━\u001b[0m\u001b[37m\u001b[0m \u001b[1m0s\u001b[0m 8ms/step - accuracy: 1.0000 - loss: 1.2309e-09 - val_accuracy: 1.0000 - val_loss: 0.0403\n",
      "Epoch 147/150\n",
      "\u001b[1m18/18\u001b[0m \u001b[32m━━━━━━━━━━━━━━━━━━━━\u001b[0m\u001b[37m\u001b[0m \u001b[1m0s\u001b[0m 7ms/step - accuracy: 1.0000 - loss: 2.2437e-08 - val_accuracy: 1.0000 - val_loss: 0.0404\n",
      "Epoch 148/150\n",
      "\u001b[1m18/18\u001b[0m \u001b[32m━━━━━━━━━━━━━━━━━━━━\u001b[0m\u001b[37m\u001b[0m \u001b[1m0s\u001b[0m 8ms/step - accuracy: 1.0000 - loss: 9.3442e-09 - val_accuracy: 1.0000 - val_loss: 0.0402\n",
      "Epoch 149/150\n",
      "\u001b[1m18/18\u001b[0m \u001b[32m━━━━━━━━━━━━━━━━━━━━\u001b[0m\u001b[37m\u001b[0m \u001b[1m0s\u001b[0m 9ms/step - accuracy: 1.0000 - loss: 1.8371e-08 - val_accuracy: 1.0000 - val_loss: 0.0402\n",
      "Epoch 150/150\n",
      "\u001b[1m18/18\u001b[0m \u001b[32m━━━━━━━━━━━━━━━━━━━━\u001b[0m\u001b[37m\u001b[0m \u001b[1m0s\u001b[0m 8ms/step - accuracy: 1.0000 - loss: 3.6974e-07 - val_accuracy: 1.0000 - val_loss: 0.0387\n"
     ]
    }
   ],
   "source": [
    "# обучение модели на обучающей выборке с валидацией на тестовой выборке\n",
    "history = model.fit(\n",
    "    x_train,\n",
    "    y_train,\n",
    "    epochs=150,\n",
    "    batch_size=16,\n",
    "    validation_data=(x_test, y_test),\n",
    "    verbose=1,\n",
    ")"
   ]
  },
  {
   "cell_type": "code",
   "execution_count": null,
   "metadata": {},
   "outputs": [
    {
     "data": {
      "image/png": "[encoded data removed]",
      "text/plain": [
       "<Figure size 2000x500 with 2 Axes>"
      ]
     },
     "metadata": {},
     "output_type": "display_data"
    }
   ],
   "source": [
    "# Создание графиков для обучения модели\n",
    "fig, (ax1, ax2) = plt.subplots(1, 2, figsize=(20, 5)) \n",
    "fig.suptitle(\"График процесса обучения модели\")\n",
    "ax1.plot(\n",
    "    history.history[\"accuracy\"], label=\"Доля верных ответов на обучающем наборе\"\n",
    ")\n",
    "ax1.plot(\n",
    "    history.history[\"val_accuracy\"],\n",
    "    label=\"Доля верных ответов на проверочном наборе\",\n",
    ")\n",
    "ax1.xaxis.get_major_locator().set_params(integer=True)\n",
    "ax1.set_xlabel(\"Эпоха обучения\")\n",
    "ax1.set_ylabel(\"Доля верных ответов\")\n",
    "ax1.legend()\n",
    "\n",
    "ax2.plot(history.history[\"loss\"], label=\"Ошибка на обучающем наборе\")\n",
    "ax2.plot(history.history[\"val_loss\"], label=\"Ошибка на проверочном наборе\")\n",
    "ax2.xaxis.get_major_locator().set_params(integer=True)\n",
    "ax2.set_xlabel(\"Эпоха обучения\")\n",
    "ax2.set_ylabel(\"Ошибка\")\n",
    "ax2.legend()\n",
    "plt.show()"
   ]
  },
  {
   "cell_type": "code",
   "execution_count": null,
   "metadata": {},
   "outputs": [],
   "source": [
    "model.save_weights(\"pro.weights.h5\") # Сохранение весов модели в файл"
   ]
  }
 ],
 "metadata": {
  "colab": {
   "provenance": []
  },
  "kernelspec": {
   "display_name": "global-cKEoLTwX-py3.12",
   "language": "python",
   "name": "python3"
  },
  "language_info": {
   "codemirror_mode": {
    "name": "ipython",
    "version": 3
   },
   "file_extension": ".py",
   "mimetype": "text/x-python",
   "name": "python",
   "nbconvert_exporter": "python",
   "pygments_lexer": "ipython3",
   "version": "3.12.3"
  }
 },
 "nbformat": 4,
 "nbformat_minor": 0
}
